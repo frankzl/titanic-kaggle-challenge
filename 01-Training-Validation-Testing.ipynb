{
 "cells": [
  {
   "cell_type": "markdown",
   "metadata": {},
   "source": [
    "# 01 - Training, Validation, Testing\n",
    "\n",
    "We are at the moment only testing our accuracy on our test data after we submit it to Kaggle.\n",
    "\n",
    "Submissions to Kaggle are limited, so we should rather try to test on our training data already.\n",
    "\n",
    "What we want is to split the train data into:\n",
    "\n",
    "1. a set we want to train on\n",
    "2. a set we use only for validating our training\n",
    "\n",
    "Let's start out with a validation set of size  **1/3**"
   ]
  },
  {
   "cell_type": "code",
   "execution_count": 59,
   "metadata": {
    "scrolled": false
   },
   "outputs": [],
   "source": [
    "import tools.extract as e\n",
    "import tools.transform as t\n",
    "\n",
    "train, test = e.load(\"data\")\n",
    "\n",
    "DATA_SIZE = len(train)\n",
    "VALIDATION_SIZE = int(len(train) * 1/8)\n",
    "TRAIN_SIZE = DATA_SIZE - VALIDATION_SIZE\n",
    "\n",
    "from sklearn.utils import shuffle\n",
    "\n",
    "shuffled = shuffle(train)\n",
    "\n",
    "validation_set = shuffled [ TRAIN_SIZE: ]\n",
    "training_set = shuffled [ :TRAIN_SIZE ]"
   ]
  },
  {
   "cell_type": "code",
   "execution_count": 60,
   "metadata": {},
   "outputs": [
    {
     "name": "stderr",
     "output_type": "stream",
     "text": [
      "/usr/local/lib/python3.5/dist-packages/ipykernel_launcher.py:11: SettingWithCopyWarning: \n",
      "A value is trying to be set on a copy of a slice from a DataFrame.\n",
      "Try using .loc[row_indexer,col_indexer] = value instead\n",
      "\n",
      "See the caveats in the documentation: http://pandas.pydata.org/pandas-docs/stable/indexing.html#indexing-view-versus-copy\n",
      "  # This is added back by InteractiveShellApp.init_path()\n",
      "/usr/local/lib/python3.5/dist-packages/ipykernel_launcher.py:12: SettingWithCopyWarning: \n",
      "A value is trying to be set on a copy of a slice from a DataFrame.\n",
      "Try using .loc[row_indexer,col_indexer] = value instead\n",
      "\n",
      "See the caveats in the documentation: http://pandas.pydata.org/pandas-docs/stable/indexing.html#indexing-view-versus-copy\n",
      "  if sys.path[0] == '':\n"
     ]
    }
   ],
   "source": [
    "import tools.extract as e\n",
    "import tools.transform as t\n",
    "\n",
    "# 'PassengerId', 'Survived', 'Pclass', 'Name', 'Sex', 'Age', 'SibSp',\n",
    "# 'Parch', 'Ticket', 'Fare', 'Cabin', 'Embarked'\n",
    "\n",
    "features = ['Pclass', 'Sex', 'Age']\n",
    "\n",
    "def transform(data):\n",
    "    selected = t.select(data, features)\n",
    "    selected[\"Sex\"], _ = ( t.encode_categories( selected, \"Sex\" ))\n",
    "    selected[\"Age\"] = t.set_NaN(selected, \"Age\", 0)\n",
    "    return selected\n",
    "\n",
    "import tools.classifiers.decision_tree as dt\n",
    "import tools.predict as p\n",
    "\n",
    "labels = training_set['Survived']\n",
    "\n",
    "tree = dt.DecisionTree(features)\n",
    "p.train(tree, transform(training_set), labels)\n",
    "predictions = p.predict(tree, transform(validation_set))\n",
    "\n",
    "ID = \"PassengerId\"\n",
    "LABEL = \"Survived\""
   ]
  },
  {
   "cell_type": "code",
   "execution_count": 70,
   "metadata": {},
   "outputs": [
    {
     "name": "stdout",
     "output_type": "stream",
     "text": [
      "correct/total: 86/111\n",
      "accuracy: 0.774774774775\n"
     ]
    }
   ],
   "source": [
    "def accuracy( predicted, ground_truth ):\n",
    "    correct = (predicted == ground_truth).sum()\n",
    "    print( \"correct/total: \" + str(correct) +\"/\"+ str(len(predicted)))\n",
    "    print( \"accuracy: \" + str(correct/len(predicted)) )\n",
    "\n",
    "accuracy(predictions, validation_set['Survived'])\n"
   ]
  },
  {
   "cell_type": "markdown",
   "metadata": {},
   "source": [
    "## Cool! Now we are set to rumble!\n",
    "\n",
    "Let us try different depth limitations for the tree"
   ]
  },
  {
   "cell_type": "code",
   "execution_count": null,
   "metadata": {},
   "outputs": [],
   "source": []
  },
  {
   "cell_type": "code",
   "execution_count": null,
   "metadata": {},
   "outputs": [],
   "source": []
  }
 ],
 "metadata": {
  "kernelspec": {
   "display_name": "Python 3",
   "language": "python",
   "name": "python3"
  },
  "language_info": {
   "codemirror_mode": {
    "name": "ipython",
    "version": 3
   },
   "file_extension": ".py",
   "mimetype": "text/x-python",
   "name": "python",
   "nbconvert_exporter": "python",
   "pygments_lexer": "ipython3",
   "version": "3.5.2"
  }
 },
 "nbformat": 4,
 "nbformat_minor": 2
}
