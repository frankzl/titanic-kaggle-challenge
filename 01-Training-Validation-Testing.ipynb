{
 "cells": [
  {
   "cell_type": "markdown",
   "metadata": {},
   "source": [
    "# 01 - Training, Validation, Testing\n",
    "\n",
    "We are at the moment only testing our accuracy on our test data after we submit it to Kaggle.\n",
    "\n",
    "Submissions to Kaggle are limited, so we should rather try to test on our training data already.\n",
    "\n",
    "What we want is to split the train data into:\n",
    "\n",
    "1. a set we want to train on\n",
    "2. a set we use only for validating our training\n",
    "\n",
    "Let's start out with a validation set of size  **1/3**"
   ]
  },
  {
   "cell_type": "code",
   "execution_count": 42,
   "metadata": {
    "scrolled": false
   },
   "outputs": [
    {
     "name": "stdout",
     "output_type": "stream",
     "text": [
      "The autoreload extension is already loaded. To reload it, use:\n",
      "  %reload_ext autoreload\n"
     ]
    }
   ],
   "source": [
    "%load_ext autoreload\n",
    "%autoreload 2\n",
    "\n",
    "\n",
    "import tools.extract as ex\n",
    "import tools.transform as tr\n",
    "\n",
    "train, test = ex.load(\"data\")\n",
    "\n",
    "DATA_SIZE = len(train)\n",
    "VALIDATION_SIZE = int(len(train) * 1/8)\n",
    "TRAIN_SIZE = DATA_SIZE - VALIDATION_SIZE\n",
    "\n",
    "from sklearn.utils import shuffle\n",
    "\n",
    "shuffled = shuffle(train)\n",
    "\n",
    "validation_set = shuffled [ TRAIN_SIZE: ]\n",
    "training_set = shuffled [ :TRAIN_SIZE ]"
   ]
  },
  {
   "cell_type": "code",
   "execution_count": 43,
   "metadata": {},
   "outputs": [
    {
     "name": "stderr",
     "output_type": "stream",
     "text": [
      "/usr/local/lib/python3.5/dist-packages/ipykernel_launcher.py:11: SettingWithCopyWarning: \n",
      "A value is trying to be set on a copy of a slice from a DataFrame.\n",
      "Try using .loc[row_indexer,col_indexer] = value instead\n",
      "\n",
      "See the caveats in the documentation: http://pandas.pydata.org/pandas-docs/stable/indexing.html#indexing-view-versus-copy\n",
      "  # This is added back by InteractiveShellApp.init_path()\n",
      "/usr/local/lib/python3.5/dist-packages/ipykernel_launcher.py:12: SettingWithCopyWarning: \n",
      "A value is trying to be set on a copy of a slice from a DataFrame.\n",
      "Try using .loc[row_indexer,col_indexer] = value instead\n",
      "\n",
      "See the caveats in the documentation: http://pandas.pydata.org/pandas-docs/stable/indexing.html#indexing-view-versus-copy\n",
      "  if sys.path[0] == '':\n"
     ]
    }
   ],
   "source": [
    "import tools.extract as ex\n",
    "import tools.transform as tr\n",
    "\n",
    "# 'PassengerId', 'Survived', 'Pclass', 'Name', 'Sex', 'Age', 'SibSp',\n",
    "# 'Parch', 'Ticket', 'Fare', 'Cabin', 'Embarked'\n",
    "\n",
    "features = ['Pclass', 'Sex', 'Age']\n",
    "\n",
    "def transform(data):\n",
    "    selected = tr.select(data, features)\n",
    "    selected[\"Sex\"], _ = ( tr.encode_categories( selected, \"Sex\" ))\n",
    "    selected[\"Age\"] = tr.set_NaN(selected, \"Age\", 0)\n",
    "    return selected\n",
    "\n",
    "import tools.classifiers.decision_tree as dt\n",
    "import tools.predict as p\n",
    "\n",
    "labels = training_set['Survived']\n",
    "\n",
    "tree = dt.DecisionTree(features)\n",
    "p.train(tree, transform(training_set), labels)\n",
    "\n",
    "val_predictions = p.predict(tree, transform(validation_set))\n",
    "train_predictions = p.predict(tree, transform(training_set))\n",
    "\n",
    "ID = \"PassengerId\"\n",
    "LABEL = \"Survived\""
   ]
  },
  {
   "cell_type": "code",
   "execution_count": 44,
   "metadata": {},
   "outputs": [
    {
     "name": "stdout",
     "output_type": "stream",
     "text": [
      "Training data:\n",
      "correct/total: 686/780\n",
      "accuracy: 0.879487179487\n",
      "\n",
      "\n",
      "Validation data:\n",
      "correct/total: 94/111\n",
      "accuracy: 0.846846846847\n"
     ]
    },
    {
     "data": {
      "text/plain": [
       "0.84684684684684686"
      ]
     },
     "execution_count": 44,
     "metadata": {},
     "output_type": "execute_result"
    }
   ],
   "source": [
    "def accuracy( predicted, ground_truth, printf = False ):\n",
    "    correct = (predicted == ground_truth).sum()\n",
    "    if printf:\n",
    "        print( \"correct/total: \" + str(correct) +\"/\"+ str(len(predicted)))\n",
    "        print( \"accuracy: \" + str(correct/len(predicted)) )\n",
    "    return correct/len(predicted)\n",
    "\n",
    "print(\"Training data:\")\n",
    "accuracy(train_predictions, training_set['Survived'], printf = True)\n",
    "print(\"\\n\\nValidation data:\")\n",
    "accuracy(val_predictions, validation_set['Survived'], printf = True)"
   ]
  },
  {
   "cell_type": "markdown",
   "metadata": {},
   "source": [
    "## Cool! Now we are set to rumble!\n",
    "\n",
    "Let us try different depth limitations for the tree"
   ]
  },
  {
   "cell_type": "code",
   "execution_count": 45,
   "metadata": {
    "scrolled": true
   },
   "outputs": [
    {
     "name": "stderr",
     "output_type": "stream",
     "text": [
      "/usr/local/lib/python3.5/dist-packages/ipykernel_launcher.py:11: SettingWithCopyWarning: \n",
      "A value is trying to be set on a copy of a slice from a DataFrame.\n",
      "Try using .loc[row_indexer,col_indexer] = value instead\n",
      "\n",
      "See the caveats in the documentation: http://pandas.pydata.org/pandas-docs/stable/indexing.html#indexing-view-versus-copy\n",
      "  # This is added back by InteractiveShellApp.init_path()\n",
      "/usr/local/lib/python3.5/dist-packages/ipykernel_launcher.py:12: SettingWithCopyWarning: \n",
      "A value is trying to be set on a copy of a slice from a DataFrame.\n",
      "Try using .loc[row_indexer,col_indexer] = value instead\n",
      "\n",
      "See the caveats in the documentation: http://pandas.pydata.org/pandas-docs/stable/indexing.html#indexing-view-versus-copy\n",
      "  if sys.path[0] == '':\n"
     ]
    },
    {
     "name": "stdout",
     "output_type": "stream",
     "text": [
      "Max Depth: 1\n",
      "Training data:\n",
      "correct/total: 609/780\n",
      "accuracy: 0.780769230769\n",
      "\n",
      "\n",
      "Validation data:\n",
      "correct/total: 92/111\n",
      "accuracy: 0.828828828829\n",
      "\n",
      "----------------\n",
      "Max Depth: 2\n",
      "Training data:\n",
      "correct/total: 609/780\n",
      "accuracy: 0.780769230769\n",
      "\n",
      "\n",
      "Validation data:\n",
      "correct/total: 92/111\n",
      "accuracy: 0.828828828829\n",
      "\n",
      "----------------\n",
      "Max Depth: 3\n",
      "Training data:\n",
      "correct/total: 618/780\n",
      "accuracy: 0.792307692308\n",
      "\n",
      "\n",
      "Validation data:\n",
      "correct/total: 93/111\n",
      "accuracy: 0.837837837838\n",
      "\n",
      "----------------\n",
      "Max Depth: 4\n",
      "Training data:\n",
      "correct/total: 627/780\n",
      "accuracy: 0.803846153846\n",
      "\n",
      "\n",
      "Validation data:\n",
      "correct/total: 92/111\n",
      "accuracy: 0.828828828829\n",
      "\n",
      "----------------\n",
      "Max Depth: 5\n",
      "Training data:\n",
      "correct/total: 635/780\n",
      "accuracy: 0.814102564103\n",
      "\n",
      "\n",
      "Validation data:\n",
      "correct/total: 91/111\n",
      "accuracy: 0.81981981982\n",
      "\n",
      "----------------\n",
      "Max Depth: 6\n",
      "Training data:\n",
      "correct/total: 649/780\n",
      "accuracy: 0.832051282051\n",
      "\n",
      "\n",
      "Validation data:\n",
      "correct/total: 89/111\n",
      "accuracy: 0.801801801802\n",
      "\n",
      "----------------\n",
      "Max Depth: 7\n",
      "Training data:\n",
      "correct/total: 666/780\n",
      "accuracy: 0.853846153846\n",
      "\n",
      "\n",
      "Validation data:\n",
      "correct/total: 95/111\n",
      "accuracy: 0.855855855856\n",
      "\n",
      "----------------\n",
      "Max Depth: 8\n",
      "Training data:\n",
      "correct/total: 670/780\n",
      "accuracy: 0.858974358974\n",
      "\n",
      "\n",
      "Validation data:\n",
      "correct/total: 96/111\n",
      "accuracy: 0.864864864865\n",
      "\n",
      "----------------\n",
      "Max Depth: 9\n",
      "Training data:\n",
      "correct/total: 675/780\n",
      "accuracy: 0.865384615385\n",
      "\n",
      "\n",
      "Validation data:\n",
      "correct/total: 95/111\n",
      "accuracy: 0.855855855856\n",
      "\n",
      "----------------\n",
      "Max Depth: 10\n",
      "Training data:\n",
      "correct/total: 678/780\n",
      "accuracy: 0.869230769231\n",
      "\n",
      "\n",
      "Validation data:\n",
      "correct/total: 96/111\n",
      "accuracy: 0.864864864865\n",
      "\n",
      "----------------\n",
      "Max Depth: 11\n",
      "Training data:\n",
      "correct/total: 681/780\n",
      "accuracy: 0.873076923077\n",
      "\n",
      "\n",
      "Validation data:\n",
      "correct/total: 94/111\n",
      "accuracy: 0.846846846847\n",
      "\n",
      "----------------\n",
      "Max Depth: 12\n",
      "Training data:\n",
      "correct/total: 683/780\n",
      "accuracy: 0.875641025641\n",
      "\n",
      "\n",
      "Validation data:\n",
      "correct/total: 94/111\n",
      "accuracy: 0.846846846847\n",
      "\n",
      "----------------\n",
      "Max Depth: 13\n",
      "Training data:\n",
      "correct/total: 684/780\n",
      "accuracy: 0.876923076923\n",
      "\n",
      "\n",
      "Validation data:\n",
      "correct/total: 94/111\n",
      "accuracy: 0.846846846847\n",
      "\n",
      "----------------\n",
      "Max Depth: 14\n",
      "Training data:\n",
      "correct/total: 685/780\n",
      "accuracy: 0.878205128205\n",
      "\n",
      "\n",
      "Validation data:\n",
      "correct/total: 94/111\n",
      "accuracy: 0.846846846847\n",
      "\n",
      "----------------\n",
      "Max Depth: 15\n",
      "Training data:\n",
      "correct/total: 686/780\n",
      "accuracy: 0.879487179487\n",
      "\n",
      "\n",
      "Validation data:\n",
      "correct/total: 94/111\n",
      "accuracy: 0.846846846847\n",
      "\n",
      "----------------\n",
      "Max Depth: 16\n",
      "Training data:\n",
      "correct/total: 686/780\n",
      "accuracy: 0.879487179487\n",
      "\n",
      "\n",
      "Validation data:\n",
      "correct/total: 94/111\n",
      "accuracy: 0.846846846847\n",
      "\n",
      "----------------\n",
      "Max Depth: 17\n",
      "Training data:\n",
      "correct/total: 686/780\n",
      "accuracy: 0.879487179487\n",
      "\n",
      "\n",
      "Validation data:\n",
      "correct/total: 94/111\n",
      "accuracy: 0.846846846847\n",
      "\n",
      "----------------\n",
      "Max Depth: 18\n",
      "Training data:\n",
      "correct/total: 686/780\n",
      "accuracy: 0.879487179487\n",
      "\n",
      "\n",
      "Validation data:\n",
      "correct/total: 94/111\n",
      "accuracy: 0.846846846847\n",
      "\n",
      "----------------\n",
      "Max Depth: 19\n",
      "Training data:\n",
      "correct/total: 686/780\n",
      "accuracy: 0.879487179487\n",
      "\n",
      "\n",
      "Validation data:\n",
      "correct/total: 94/111\n",
      "accuracy: 0.846846846847\n",
      "\n",
      "----------------\n",
      "Max Depth: 20\n",
      "Training data:\n",
      "correct/total: 686/780\n",
      "accuracy: 0.879487179487\n",
      "\n",
      "\n",
      "Validation data:\n",
      "correct/total: 94/111\n",
      "accuracy: 0.846846846847\n",
      "\n",
      "----------------\n",
      "Max Depth: 21\n",
      "Training data:\n",
      "correct/total: 686/780\n",
      "accuracy: 0.879487179487\n",
      "\n",
      "\n",
      "Validation data:\n",
      "correct/total: 94/111\n",
      "accuracy: 0.846846846847\n",
      "\n",
      "----------------\n",
      "Max Depth: 22\n",
      "Training data:\n",
      "correct/total: 686/780\n",
      "accuracy: 0.879487179487\n",
      "\n",
      "\n",
      "Validation data:\n",
      "correct/total: 94/111\n",
      "accuracy: 0.846846846847\n",
      "\n",
      "----------------\n",
      "Max Depth: 23\n",
      "Training data:\n",
      "correct/total: 686/780\n",
      "accuracy: 0.879487179487\n",
      "\n",
      "\n",
      "Validation data:\n",
      "correct/total: 94/111\n",
      "accuracy: 0.846846846847\n",
      "\n",
      "----------------\n",
      "Max Depth: 24\n",
      "Training data:\n",
      "correct/total: 686/780\n",
      "accuracy: 0.879487179487\n",
      "\n",
      "\n",
      "Validation data:\n",
      "correct/total: 94/111\n",
      "accuracy: 0.846846846847\n",
      "\n",
      "----------------\n",
      "Max Depth: 25\n",
      "Training data:\n",
      "correct/total: 686/780\n",
      "accuracy: 0.879487179487\n",
      "\n",
      "\n",
      "Validation data:\n",
      "correct/total: 94/111\n",
      "accuracy: 0.846846846847\n",
      "\n",
      "----------------\n",
      "Max Depth: 26\n",
      "Training data:\n",
      "correct/total: 686/780\n",
      "accuracy: 0.879487179487\n",
      "\n",
      "\n",
      "Validation data:\n",
      "correct/total: 94/111\n",
      "accuracy: 0.846846846847\n",
      "\n",
      "----------------\n",
      "Max Depth: 27\n",
      "Training data:\n",
      "correct/total: 686/780\n",
      "accuracy: 0.879487179487\n",
      "\n",
      "\n",
      "Validation data:\n",
      "correct/total: 94/111\n",
      "accuracy: 0.846846846847\n",
      "\n",
      "----------------\n",
      "Max Depth: 28\n",
      "Training data:\n",
      "correct/total: 686/780\n",
      "accuracy: 0.879487179487\n",
      "\n",
      "\n",
      "Validation data:\n",
      "correct/total: 94/111\n",
      "accuracy: 0.846846846847\n",
      "\n",
      "----------------\n",
      "Max Depth: 29\n",
      "Training data:\n",
      "correct/total: 686/780\n",
      "accuracy: 0.879487179487\n",
      "\n",
      "\n",
      "Validation data:\n",
      "correct/total: 94/111\n",
      "accuracy: 0.846846846847\n",
      "\n",
      "----------------\n"
     ]
    }
   ],
   "source": [
    "max_depths = list(range(1,30))\n",
    "\n",
    "training_acc = []\n",
    "validation_acc = []\n",
    "\n",
    "for i in max_depths:\n",
    "    tree = dt.DecisionTree(features, max_depth = i)\n",
    "    p.train(tree, transform(training_set), training_set['Survived'])\n",
    "\n",
    "    val_predictions = p.predict(tree, transform(validation_set))\n",
    "    train_predictions = p.predict(tree, transform(training_set))\n",
    "    \n",
    "    print(\"Max Depth: \" + str(i))\n",
    "    print(\"Training data:\")\n",
    "    training_acc.append(accuracy(train_predictions, training_set['Survived'], printf = True))\n",
    "    print(\"\\n\\nValidation data:\")\n",
    "    validation_acc.append(accuracy(val_predictions, validation_set['Survived'], printf = True))\n",
    "    \n",
    "    print(\"\\n----------------\")\n"
   ]
  },
  {
   "cell_type": "markdown",
   "metadata": {},
   "source": [
    "## Okay interesting... \n",
    "\n",
    "but now let's plot it to see how the training accuracy and the validation accuracy behave with respect to the maximum tree depth"
   ]
  },
  {
   "cell_type": "code",
   "execution_count": 47,
   "metadata": {},
   "outputs": [
    {
     "data": {
      "image/png": "[encoded data removed]",
      "text/plain": [
       "<Figure size 432x288 with 1 Axes>"
      ]
     },
     "metadata": {
      "needs_background": "light"
     },
     "output_type": "display_data"
    }
   ],
   "source": [
    "from pylab import *\n",
    "import matplotlib.pyplot as plt\n",
    "\n",
    "figure()\n",
    "plt.plot(max_depths, training_acc, 'o', color='red')\n",
    "plt.plot(max_depths, validation_acc, 'x', color='blue')\n",
    "\n",
    "plt.xlabel('tree_depth')\n",
    "plt.ylabel('accuracy')\n",
    "plt.title('title')\n",
    "plt.show()"
   ]
  },
  {
   "cell_type": "markdown",
   "metadata": {},
   "source": [
    "As we can see best tree depth for the validation set is actually already at 7\n",
    "\n",
    "## Problem\n",
    "This highly depends on how we choose the validation set. If we resample the validation set and choose a different values, the plot changes for the validation accuracy\n",
    "\n",
    "**Instead ..**\n",
    "\n",
    "We can do k-fold cross validation. That means:\n",
    "1. we split all the given data in k different sets.\n",
    "2. for each set\n",
    "    - we use that sets for validation\n",
    "    - we use the rest for the training\n",
    "    - we calculate the accuracy on the validation set\n",
    "3. take the average over all the calculated accuracy\n",
    "4. plot\n",
    "\n",
    "**Hopefully the result will be a bit more stable!**\n",
    "\n",
    "## Let's try 5 fold cross validation here!"
   ]
  },
  {
   "cell_type": "code",
   "execution_count": 48,
   "metadata": {},
   "outputs": [
    {
     "data": {
      "text/plain": [
       "[(0, 178), (178, 356), (356, 534), (534, 712), (712, 891)]"
      ]
     },
     "execution_count": 48,
     "metadata": {},
     "output_type": "execute_result"
    }
   ],
   "source": [
    "def get_k_splits(data, k):\n",
    "    \n",
    "    splits = []\n",
    "    \n",
    "    SPLIT_SIZE = round(len(data)/k)\n",
    "    end_index = 0\n",
    "    \n",
    "    for i in range(k - 1):\n",
    "        \n",
    "        start_index = end_index\n",
    "        end_index += SPLIT_SIZE\n",
    "        \n",
    "        splits.append( (start_index,end_index) )\n",
    "    \n",
    "    splits.append( ( end_index, len(data)) )\n",
    "    \n",
    "    return splits\n",
    "\n",
    "train, test = ex.load(\"data\")\n",
    "\n",
    "splits = get_k_splits(train, 5)\n",
    "\n",
    "splits"
   ]
  },
  {
   "cell_type": "markdown",
   "metadata": {},
   "source": [
    "## Now all we need to do is iterate through those 5 splits and validate"
   ]
  },
  {
   "cell_type": "code",
   "execution_count": 49,
   "metadata": {},
   "outputs": [
    {
     "name": "stderr",
     "output_type": "stream",
     "text": [
      "/usr/local/lib/python3.5/dist-packages/ipykernel_launcher.py:11: SettingWithCopyWarning: \n",
      "A value is trying to be set on a copy of a slice from a DataFrame.\n",
      "Try using .loc[row_indexer,col_indexer] = value instead\n",
      "\n",
      "See the caveats in the documentation: http://pandas.pydata.org/pandas-docs/stable/indexing.html#indexing-view-versus-copy\n",
      "  # This is added back by InteractiveShellApp.init_path()\n",
      "/usr/local/lib/python3.5/dist-packages/ipykernel_launcher.py:12: SettingWithCopyWarning: \n",
      "A value is trying to be set on a copy of a slice from a DataFrame.\n",
      "Try using .loc[row_indexer,col_indexer] = value instead\n",
      "\n",
      "See the caveats in the documentation: http://pandas.pydata.org/pandas-docs/stable/indexing.html#indexing-view-versus-copy\n",
      "  if sys.path[0] == '':\n"
     ]
    },
    {
     "name": "stdout",
     "output_type": "stream",
     "text": [
      "AVG training acc: \t0.80135536857\n",
      "AVG validation acc: \t0.786756184814\n"
     ]
    },
    {
     "data": {
      "text/plain": [
       "(0.80135536856955714, 0.78675618481382581)"
      ]
     },
     "execution_count": 49,
     "metadata": {},
     "output_type": "execute_result"
    }
   ],
   "source": [
    "def cross_validation_accuracy(data, kfold, max_depth, printf=False):\n",
    "    \n",
    "    splits = get_k_splits(data, kfold)\n",
    "    training_acc = []\n",
    "    validation_acc = []\n",
    "    \n",
    "    for s in splits:        \n",
    "        validation_set = data[ s[0]: s[1] ]\n",
    "        if not data[0:s[0]].empty:\n",
    "            training_set = data[0: s[0]].append(data[s[1]:len(data)])\n",
    "        else:\n",
    "            training_set = data[s[1]:len(data)]\n",
    "        \n",
    "        tree = dt.DecisionTree(features, max_depth = max_depth)\n",
    "        p.train(tree, transform(training_set), training_set[\"Survived\"])\n",
    "\n",
    "        val_predictions = p.predict(tree, transform(validation_set))\n",
    "        train_predictions = p.predict(tree, transform(training_set))\n",
    "    \n",
    "        training_acc.append(accuracy(train_predictions, training_set['Survived']))\n",
    "        validation_acc.append(accuracy(val_predictions, validation_set['Survived']))\n",
    "    \n",
    "    t_acc = sum(training_acc)/len(training_acc)\n",
    "    v_acc = sum(validation_acc)/len(validation_acc)\n",
    "    \n",
    "    if printf:\n",
    "        print(\"AVG training acc: \\t\" + str(t_acc))\n",
    "        print(\"AVG validation acc: \\t\" + str(v_acc))\n",
    "\n",
    "    return t_acc, v_acc\n",
    "from sklearn.utils import shuffle\n",
    "\n",
    "shuffle(train)\n",
    "cross_validation_accuracy(shuffle(train), 2, 3, printf=True)"
   ]
  },
  {
   "cell_type": "code",
   "execution_count": 54,
   "metadata": {},
   "outputs": [
    {
     "name": "stdout",
     "output_type": "stream",
     "text": [
      "Max Depth: 1\n"
     ]
    },
    {
     "name": "stderr",
     "output_type": "stream",
     "text": [
      "/usr/local/lib/python3.5/dist-packages/ipykernel_launcher.py:11: SettingWithCopyWarning: \n",
      "A value is trying to be set on a copy of a slice from a DataFrame.\n",
      "Try using .loc[row_indexer,col_indexer] = value instead\n",
      "\n",
      "See the caveats in the documentation: http://pandas.pydata.org/pandas-docs/stable/indexing.html#indexing-view-versus-copy\n",
      "  # This is added back by InteractiveShellApp.init_path()\n",
      "/usr/local/lib/python3.5/dist-packages/ipykernel_launcher.py:12: SettingWithCopyWarning: \n",
      "A value is trying to be set on a copy of a slice from a DataFrame.\n",
      "Try using .loc[row_indexer,col_indexer] = value instead\n",
      "\n",
      "See the caveats in the documentation: http://pandas.pydata.org/pandas-docs/stable/indexing.html#indexing-view-versus-copy\n",
      "  if sys.path[0] == '':\n"
     ]
    },
    {
     "name": "stdout",
     "output_type": "stream",
     "text": [
      "AVG training acc: \t0.786755598279\n",
      "AVG validation acc: \t0.577754064403\n",
      "\n",
      "----------------\n",
      "Max Depth: 2\n",
      "AVG training acc: \t0.790121657185\n",
      "AVG validation acc: \t0.564270918335\n",
      "\n",
      "----------------\n",
      "Max Depth: 3\n",
      "AVG training acc: \t0.80106450037\n",
      "AVG validation acc: \t0.592348251836\n",
      "\n",
      "----------------\n",
      "Max Depth: 4\n",
      "AVG training acc: \t0.811726838647\n",
      "AVG validation acc: \t0.603609315172\n",
      "\n",
      "----------------\n",
      "Max Depth: 5\n",
      "AVG training acc: \t0.824912145232\n",
      "AVG validation acc: \t0.596848910928\n",
      "\n",
      "----------------\n",
      "Max Depth: 6\n",
      "AVG training acc: \t0.8364152103\n",
      "AVG validation acc: \t0.586749105518\n",
      "\n",
      "----------------\n",
      "Max Depth: 7\n",
      "AVG training acc: \t0.849887325275\n",
      "AVG validation acc: \t0.651879982424\n",
      "\n",
      "----------------\n",
      "Max Depth: 8\n",
      "AVG training acc: \t0.860548875617\n",
      "AVG validation acc: \t0.621561734982\n",
      "\n",
      "----------------\n",
      "Max Depth: 9\n",
      "AVG training acc: \t0.869246891596\n",
      "AVG validation acc: \t0.626049839935\n",
      "\n",
      "----------------\n",
      "Max Depth: 10\n",
      "AVG training acc: \t0.875419575461\n",
      "AVG validation acc: \t0.620431862407\n",
      "\n",
      "----------------\n",
      "Max Depth: 11\n",
      "AVG training acc: \t0.878786816269\n",
      "AVG validation acc: \t0.639507877723\n",
      "\n",
      "----------------\n",
      "Max Depth: 12\n",
      "AVG training acc: \t0.88215366311\n",
      "AVG validation acc: \t0.637266963781\n",
      "\n",
      "----------------\n",
      "Max Depth: 13\n",
      "AVG training acc: \t0.882714672928\n",
      "AVG validation acc: \t0.642884941309\n",
      "\n",
      "----------------\n",
      "Max Depth: 14\n",
      "AVG training acc: \t0.883275682746\n",
      "AVG validation acc: \t0.641761345804\n",
      "\n",
      "----------------\n"
     ]
    }
   ],
   "source": [
    "max_depths = list(range(1,15))\n",
    "\n",
    "training_history = []\n",
    "validation_history = []\n",
    "\n",
    "training_set, _ = ex.load(\"data\")\n",
    "\n",
    "for i in max_depths:\n",
    "    print(\"Max Depth: \" + str(i))\n",
    "    training_acc, validation_acc = cross_validation_accuracy(training_set, 5, i, printf=True)\n",
    "    training_history.append( training_acc )\n",
    "    validation_history.append( validation_acc )\n",
    "    \n",
    "    print(\"\\n----------------\")"
   ]
  },
  {
   "cell_type": "code",
   "execution_count": 56,
   "metadata": {},
   "outputs": [
    {
     "data": {
      "image/png": "[encoded data removed]",
      "text/plain": [
       "<Figure size 432x288 with 1 Axes>"
      ]
     },
     "metadata": {
      "needs_background": "light"
     },
     "output_type": "display_data"
    }
   ],
   "source": [
    "figure()\n",
    "plt.plot(max_depths, training_history, 'o', color='red')\n",
    "plt.plot(max_depths, validation_history, 'x', color='blue')\n",
    "\n",
    "plt.xlabel('tree_depth')\n",
    "plt.ylabel('accuracy')\n",
    "plt.title('title')\n",
    "\n",
    "plt.show()"
   ]
  },
  {
   "cell_type": "code",
   "execution_count": 67,
   "metadata": {
    "scrolled": false
   },
   "outputs": [
    {
     "name": "stderr",
     "output_type": "stream",
     "text": [
      "/usr/local/lib/python3.5/dist-packages/ipykernel_launcher.py:11: SettingWithCopyWarning: \n",
      "A value is trying to be set on a copy of a slice from a DataFrame.\n",
      "Try using .loc[row_indexer,col_indexer] = value instead\n",
      "\n",
      "See the caveats in the documentation: http://pandas.pydata.org/pandas-docs/stable/indexing.html#indexing-view-versus-copy\n",
      "  # This is added back by InteractiveShellApp.init_path()\n",
      "/usr/local/lib/python3.5/dist-packages/ipykernel_launcher.py:12: SettingWithCopyWarning: \n",
      "A value is trying to be set on a copy of a slice from a DataFrame.\n",
      "Try using .loc[row_indexer,col_indexer] = value instead\n",
      "\n",
      "See the caveats in the documentation: http://pandas.pydata.org/pandas-docs/stable/indexing.html#indexing-view-versus-copy\n",
      "  if sys.path[0] == '':\n"
     ]
    },
    {
     "data": {
      "image/png": "[encoded data removed]",
      "text/plain": [
       "<Figure size 432x288 with 1 Axes>"
      ]
     },
     "metadata": {
      "needs_background": "light"
     },
     "output_type": "display_data"
    },
    {
     "data": {
      "image/png": "[encoded data removed]",
      "text/plain": [
       "<Figure size 432x288 with 1 Axes>"
      ]
     },
     "metadata": {
      "needs_background": "light"
     },
     "output_type": "display_data"
    },
    {
     "data": {
      "image/png": "[encoded data removed]",
      "text/plain": [
       "<Figure size 432x288 with 1 Axes>"
      ]
     },
     "metadata": {
      "needs_background": "light"
     },
     "output_type": "display_data"
    },
    {
     "data": {
      "image/png": "[encoded data removed]",
      "text/plain": [
       "<Figure size 432x288 with 1 Axes>"
      ]
     },
     "metadata": {
      "needs_background": "light"
     },
     "output_type": "display_data"
    },
    {
     "data": {
      "image/png": "[encoded data removed]",
      "text/plain": [
       "<Figure size 432x288 with 1 Axes>"
      ]
     },
     "metadata": {
      "needs_background": "light"
     },
     "output_type": "display_data"
    },
    {
     "data": {
      "image/png": "[encoded data removed]",
      "text/plain": [
       "<Figure size 432x288 with 1 Axes>"
      ]
     },
     "metadata": {
      "needs_background": "light"
     },
     "output_type": "display_data"
    },
    {
     "data": {
      "image/png": "[encoded data removed]",
      "text/plain": [
       "<Figure size 432x288 with 1 Axes>"
      ]
     },
     "metadata": {
      "needs_background": "light"
     },
     "output_type": "display_data"
    },
    {
     "data": {
      "image/png": "[encoded data removed]",
      "text/plain": [
       "<Figure size 432x288 with 1 Axes>"
      ]
     },
     "metadata": {
      "needs_background": "light"
     },
     "output_type": "display_data"
    },
    {
     "data": {
      "image/png": "[encoded data removed]",
      "text/plain": [
       "<Figure size 432x288 with 1 Axes>"
      ]
     },
     "metadata": {
      "needs_background": "light"
     },
     "output_type": "display_data"
    },
    {
     "data": {
      "image/png": "[encoded data removed]",
      "text/plain": [
       "<Figure size 432x288 with 1 Axes>"
      ]
     },
     "metadata": {
      "needs_background": "light"
     },
     "output_type": "display_data"
    }
   ],
   "source": [
    "def run(it):\n",
    "    max_depths = list(range(1,15))\n",
    "\n",
    "    training_history = []\n",
    "    validation_history = []\n",
    "\n",
    "    training_set, _ = ex.load(\"data\")\n",
    "    \n",
    "    from sklearn.utils import shuffle\n",
    "    training_set = shuffle(training_set)\n",
    "\n",
    "    for i in max_depths:\n",
    "        training_acc, validation_acc = cross_validation_accuracy(training_set, 8, i)\n",
    "        training_history.append( training_acc )\n",
    "        validation_history.append( validation_acc )\n",
    "\n",
    "    figure()\n",
    "    plt.plot(max_depths, training_history, 'o', color='red')\n",
    "    plt.plot(max_depths, validation_history, 'x', color='blue')\n",
    "\n",
    "    plt.xlabel('tree_depth')\n",
    "    plt.ylabel('accuracy')\n",
    "    plt.title('Iteration No. ' + str(it))\n",
    "\n",
    "for i in range(0,10):\n",
    "    run(i)\n",
    "plt.show()"
   ]
  },
  {
   "cell_type": "markdown",
   "metadata": {},
   "source": [
    "### Not the best results, but at least now we can reconstruct the majority of our curves to a certain extent.\n",
    "\n",
    "Our classifier is still pretty bad.\n",
    "\n",
    "# Next Step: Try learning with more features!"
   ]
  },
  {
   "cell_type": "code",
   "execution_count": null,
   "metadata": {},
   "outputs": [],
   "source": []
  }
 ],
 "metadata": {
  "kernelspec": {
   "display_name": "Python 3",
   "language": "python",
   "name": "python3"
  },
  "language_info": {
   "codemirror_mode": {
    "name": "ipython",
    "version": 3
   },
   "file_extension": ".py",
   "mimetype": "text/x-python",
   "name": "python",
   "nbconvert_exporter": "python",
   "pygments_lexer": "ipython3",
   "version": "3.5.2"
  }
 },
 "nbformat": 4,
 "nbformat_minor": 2
}
